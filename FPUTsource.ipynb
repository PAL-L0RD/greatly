{
 "cells": [
  {
   "cell_type": "code",
   "execution_count": 17,
   "metadata": {},
   "outputs": [],
   "source": [
    "import numpy as np\n",
    "import matplotlib.pyplot as plt\n",
    "from decimal import Decimal, Context\n",
    "decimal_context = Context(prec=50)\n",
    "from IPython.display import display\n",
    "\n",
    "\n",
    "N=10"
   ]
  },
  {
   "cell_type": "markdown",
   "metadata": {},
   "source": [
    "\\begin{aligned}\n",
    "F_1 & =u_2-2 u_1+\\alpha\\left(u_2-u_1\\right)^2-\\alpha u_1^2, \\\\\n",
    "F_i & =u_{i+1}-2 u_i+u_{i-1}+\\alpha\\left(u_{i+1}-u_i\\right)^2-\\alpha\\left(u_i-u_{i-1}\\right)^2, \\quad \\text { for } i=2, . ., N-2 \\\\\n",
    "F_{N-1} & =-2 u_{N-1}+u_{N-2}+\\alpha u_{N-1}^2-\\alpha\\left(u_{N-1}-u_{N-2}\\right)^2 .\n",
    "\\end{aligned}\\\\\n",
    "\n"
   ]
  },
  {
   "cell_type": "code",
   "execution_count": 34,
   "metadata": {},
   "outputs": [
    {
     "name": "stdout",
     "output_type": "stream",
     "text": [
      "[1, 1, 4, 1]\n",
      "[ 0.765625 -0.234375]\n"
     ]
    }
   ],
   "source": [
    "\n",
    "I = np.eye(N)\n",
    "A = 2 * np.eye(N-1) - np.eye(N-1, k=-1) - np.eye(N-1, k=1)\n",
    "eigenvalues,eigenvectors=np.linalg.eig(A)\n",
    "theoritical=[2*np.sin(n*np.pi/(2*N) ) for n in range(1,N)]\n",
    "# def force(U):\n",
    "#     alpha=1\n",
    "#     N=len(U)\n",
    "#     F=[]\n",
    "#     for i in range(N):\n",
    "#         if i==0:\n",
    "#             F.append(-2*U[0] + U[1] + alpha*(U[1]-U[0])**2-alpha*(U[0])**2)\n",
    "#         elif i>0 and i!=N-1:\n",
    "#             F.append(-2*U[i-1] + U[i] + alpha*(U[i]-U[i-1])**2-alpha*((U[i])**2 -(U[i-2])**2))\n",
    "#         else:\n",
    "#             F.append(-2*U[i-2]+U[i-3] + alpha*U[i-2]**2- alpha*((U[i-2])**2 -(U[i-3])**2))\n",
    "#     return F\n",
    "\n",
    "def force(U):\n",
    "    alpha = 0\n",
    "    N = len(U)\n",
    "    F = []\n",
    "    F.append(-2 * U[0] + U[1] + alpha * (U[1] - U[0])**2 - alpha * U[0]**2)\n",
    "    for i in range(1, N-1):\n",
    "        F.append(-2 * U[i-1] + U[i] + alpha * (U[i] - U[i-1])**2 - alpha * (U[i]**2 - U[i-2]**2))\n",
    "    F.append(-2 * U[0] + U[1] + alpha * (U[1] - U[0])**2 - alpha * (U[1]**2 - U[0]**2))\n",
    "    return F\n",
    "delta=np.sqrt(1/8)\n",
    "print(force([1,3,10,4]))\n",
    "u=lambda u,v: np.array(u)+ np.array(v)*delta+.5*np.array(force(u))*delta**2\n",
    "v=lambda u1,u2,v: v+.5*delta*(np.array(force(u2))-np.array(force(u1)))\n",
    "u0=[0,1]\n",
    "v0=[0,0]\n",
    "print(u1)\n",
    "for i in range(2):\n",
    "    print(u1)\n",
    "    u1=u(u0,v0)\n",
    "    v1=v(u0,u1,v0)\n",
    "    u0=u1\n",
    "    v0=v1\n",
    "\n",
    "\n",
    "\n",
    "\n"
   ]
  },
  {
   "cell_type": "markdown",
   "metadata": {},
   "source": []
  }
 ],
 "metadata": {
  "kernelspec": {
   "display_name": "Python 3",
   "language": "python",
   "name": "python3"
  },
  "language_info": {
   "codemirror_mode": {
    "name": "ipython",
    "version": 3
   },
   "file_extension": ".py",
   "mimetype": "text/x-python",
   "name": "python",
   "nbconvert_exporter": "python",
   "pygments_lexer": "ipython3",
   "version": "3.12.1"
  }
 },
 "nbformat": 4,
 "nbformat_minor": 2
}
